{
 "cells": [
  {
   "cell_type": "code",
   "execution_count": 1,
   "metadata": {},
   "outputs": [],
   "source": [
    "from nltk.corpus import wordnet as wn\n",
    "import numpy  as np\n",
    "import pandas as pd\n",
    "import random\n",
    "import pandas as pd"
   ]
  },
  {
   "cell_type": "code",
   "execution_count": 3,
   "metadata": {},
   "outputs": [],
   "source": [
    "max_seq_len = 3"
   ]
  },
  {
   "cell_type": "code",
   "execution_count": 4,
   "metadata": {},
   "outputs": [
    {
     "name": "stdout",
     "output_type": "stream",
     "text": [
      "Num of entire lemma   : 117798\n",
      "Num of filtered lemma : 116135\n"
     ]
    }
   ],
   "source": [
    "# 全lemmaをWordNetから取得\n",
    "lemma_set = set(wn.all_lemma_names(pos='n'))\n",
    "print('Num of entire lemma   :', len(lemma_set))\n",
    "\n",
    "# lemma set をフィルタリングし学習に適したものだけに\n",
    "lemma_set = set(l for l in lemma_set if len(l.split('_')) <= max_seq_len)\n",
    "print('Num of filtered lemma :', len(lemma_set))"
   ]
  },
  {
   "cell_type": "code",
   "execution_count": 5,
   "metadata": {},
   "outputs": [],
   "source": [
    "def vectorize_lemma(w2v, lemma, max_seq_len):\n",
    "    lemma = lemma.split('_')\n",
    "    vecs = []\n",
    "    for w in lemma:\n",
    "        if w in w2v: vecs.append(w2v[w])\n",
    "        else       : vecs.append(np.zeros(300))\n",
    "    # padding\n",
    "    n_pad = max_seq_len - len(lemma)\n",
    "    vecs += [np.zeros(300)] * n_pad\n",
    "\n",
    "    return np.array(vecs)"
   ]
  },
  {
   "cell_type": "code",
   "execution_count": null,
   "metadata": {},
   "outputs": [],
   "source": [
    "word2vec = pd.read_pickle('../vectorizer/word2vec.pkl')\n",
    "\n",
    "vectorizer_w2v = {l: vectorize_lemma(word2vec, l, max_seq_len) for l in lemma_set}\n",
    "\n",
    "pd.to_pickle(vectorizer_w2v, 'vectorizer_w2v.pkl')"
   ]
  }
 ],
 "metadata": {
  "kernelspec": {
   "display_name": "Python 3",
   "language": "python",
   "name": "python3"
  },
  "language_info": {
   "codemirror_mode": {
    "name": "ipython",
    "version": 3
   },
   "file_extension": ".py",
   "mimetype": "text/x-python",
   "name": "python",
   "nbconvert_exporter": "python",
   "pygments_lexer": "ipython3",
   "version": "3.6.8"
  }
 },
 "nbformat": 4,
 "nbformat_minor": 4
}
