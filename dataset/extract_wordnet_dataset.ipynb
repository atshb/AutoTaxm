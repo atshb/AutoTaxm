{
 "cells": [
  {
   "cell_type": "markdown",
   "metadata": {},
   "source": [
    "# Extract Dataset from WordNet\n",
    "---"
   ]
  },
  {
   "cell_type": "code",
   "execution_count": 1,
   "metadata": {},
   "outputs": [],
   "source": [
    "from nltk.corpus import wordnet as wn\n",
    "import numpy  as np\n",
    "import pandas as pd\n",
    "import random\n",
    "import pandas as pd"
   ]
  },
  {
   "cell_type": "markdown",
   "metadata": {},
   "source": [
    "## WordNetに利用されているLemmaSet(用語の集合)を作成\n",
    "---"
   ]
  },
  {
   "cell_type": "code",
   "execution_count": 2,
   "metadata": {},
   "outputs": [],
   "source": [
    "max_seq_len = 3"
   ]
  },
  {
   "cell_type": "code",
   "execution_count": 3,
   "metadata": {},
   "outputs": [
    {
     "name": "stdout",
     "output_type": "stream",
     "text": [
      "Num of entire lemma   : 117798\n",
      "Num of filtered lemma : 116135\n"
     ]
    }
   ],
   "source": [
    "# 全lemmaをWordNetから取得\n",
    "lemma_set = set(wn.all_lemma_names(pos='n'))\n",
    "print('Num of entire lemma   :', len(lemma_set))\n",
    "\n",
    "# lemma set をフィルタリングし学習に適したものだけに\n",
    "lemma_set = set(l for l in lemma_set if len(l.split('_')) <= max_seq_len)\n",
    "print('Num of filtered lemma :', len(lemma_set))"
   ]
  },
  {
   "cell_type": "markdown",
   "metadata": {},
   "source": [
    "## LemmaSet内の全てのLemmaをベクトルに変換する辞書の作成\n",
    "---"
   ]
  },
  {
   "cell_type": "code",
   "execution_count": 4,
   "metadata": {},
   "outputs": [],
   "source": [
    "def vectorize_lemma(w2v, lemma, max_seq_len):\n",
    "    lemma = lemma.split('_')\n",
    "    vecs = []\n",
    "    for w in lemma:\n",
    "        if w in w2v: vecs.append(w2v[w])\n",
    "        else       : vecs.append(np.zeros(300))\n",
    "    # padding\n",
    "    n_pad = max_seq_len - len(lemma)\n",
    "    vecs += [np.zeros(300)] * n_pad\n",
    "\n",
    "    return np.array(vecs)"
   ]
  },
  {
   "cell_type": "code",
   "execution_count": 5,
   "metadata": {},
   "outputs": [],
   "source": [
    "word2vec = pd.read_pickle('../vectorizer/word2vec.pkl')\n",
    "\n",
    "vectorizer_w2v = {l: vectorize_lemma(word2vec, l, max_seq_len) for l in lemma_set}\n",
    "\n",
    "pd.to_pickle(vectorizer_w2v, 'vectorizer_w2v.pkl')"
   ]
  },
  {
   "cell_type": "markdown",
   "metadata": {},
   "source": [
    "## WordNetからデータを抽出## \n",
    "---"
   ]
  },
  {
   "cell_type": "code",
   "execution_count": 6,
   "metadata": {},
   "outputs": [],
   "source": [
    "n_unrelated = 500000\n",
    "\n",
    "train_rate = 0.8\n",
    "\n",
    "fname_full  = f'wordnet_full'\n",
    "fname_train = f'wordnet_train'\n",
    "fname_valid = f'wordnet_valid'"
   ]
  },
  {
   "cell_type": "code",
   "execution_count": 7,
   "metadata": {},
   "outputs": [],
   "source": [
    "# 同義語のペアの追加\n",
    "synonyms = []\n",
    "for s in wn.all_synsets(pos='n'):\n",
    "    for a in s.lemma_names():\n",
    "        for b in s.lemma_names():\n",
    "            if a in lemma_set and b in lemma_set:\n",
    "                synonyms.append((a, b))\n",
    "\n",
    "# 上位下位、下位上位のペアの追加\n",
    "sup_subs = []\n",
    "sub_sups = []\n",
    "for s in wn.all_synsets(pos='n'):\n",
    "    hypos = s.hyponyms()\n",
    "    for h in hypos:\n",
    "        for a in s.lemma_names():\n",
    "            for b in h.lemma_names():\n",
    "                if a in lemma_set and b in lemma_set:\n",
    "                    sup_subs.append((a, b))\n",
    "                    sub_sups.append((b, a))\n",
    "\n",
    "# 無関係ペアの追加\n",
    "unrelated = []\n",
    "lemma_list = list(lemma_set)\n",
    "related_set = set(synonyms + sup_subs + sub_sups)\n",
    "while len(unrelated) < n_unrelated:\n",
    "    a = random.choice(lemma_list)\n",
    "    b = random.choice(lemma_list)\n",
    "    if (a, b) not in related_set: unrelated.append((a, b))\n",
    "\n",
    "# 抽出したデータのラベル付け\n",
    "synonyms  = [(a, b, 0) for a, b in synonyms ]\n",
    "sup_subs  = [(a, b, 1) for a, b in sup_subs ]\n",
    "sub_sups  = [(a, b, 2) for a, b in sub_sups ]\n",
    "unrelated = [(a, b, 3) for a, b in unrelated]"
   ]
  },
  {
   "cell_type": "code",
   "execution_count": 8,
   "metadata": {},
   "outputs": [
    {
     "name": "stdout",
     "output_type": "stream",
     "text": [
      "num of total data : 1166215\n",
      "num of train data : 932972\n",
      "num of valid data : 233243\n"
     ]
    }
   ],
   "source": [
    "# データの統合とシャッフル\n",
    "dataset = synonyms + sup_subs + sub_sups + unrelated\n",
    "random.seed(1000)\n",
    "random.shuffle(dataset)\n",
    "\n",
    "# トレーニング用とテスト用に分割\n",
    "n_total = len(dataset)\n",
    "n_train = round(n_total * train_rate)\n",
    "n_valid = n_total - n_train\n",
    "\n",
    "print('num of total data :', n_total)\n",
    "print('num of train data :', n_train)\n",
    "print('num of valid data :', n_valid)\n",
    "\n",
    "train_dataset = dataset[:n_train]\n",
    "valid_dataset = dataset[n_train:]\n",
    "\n",
    "# データセットをpickle、csvで保存\n",
    "pd.to_pickle(train_dataset, fname_train + '.pkl')\n",
    "pd.to_pickle(valid_dataset, fname_valid + '.pkl')\n",
    "\n",
    "columns = ('Lemma A', 'Lemma B', 'Label')\n",
    "pd.DataFrame(train_dataset, columns=columns).to_csv(fname_train + '.csv', index=None)\n",
    "pd.DataFrame(valid_dataset, columns=columns).to_csv(fname_valid + '.csv', index=None)"
   ]
  }
 ],
 "metadata": {
  "kernelspec": {
   "display_name": "Python 3",
   "language": "python",
   "name": "python3"
  },
  "language_info": {
   "codemirror_mode": {
    "name": "ipython",
    "version": 3
   },
   "file_extension": ".py",
   "mimetype": "text/x-python",
   "name": "python",
   "nbconvert_exporter": "python",
   "pygments_lexer": "ipython3",
   "version": "3.7.3"
  }
 },
 "nbformat": 4,
 "nbformat_minor": 4
}
